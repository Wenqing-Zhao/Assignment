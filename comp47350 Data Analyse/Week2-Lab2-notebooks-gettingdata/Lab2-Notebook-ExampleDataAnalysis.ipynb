{
 "cells": [
  {
   "cell_type": "markdown",
   "metadata": {},
   "source": [
    "This Notebook showcases some data analysis done on a text file downloaded from the Web."
   ]
  },
  {
   "cell_type": "code",
   "execution_count": 1,
   "metadata": {},
   "outputs": [],
   "source": [
    "#Import all required packages\n",
    "import requests\n",
    "\n",
    "#Force utf8 as the character encoding\n",
    "import codecs \n",
    "#numpy is a package for numeric computing\n",
    "import numpy as np\n",
    "\n",
    "#nltk is a package for working with text\n",
    "#pip install nltk\n",
    "#Also see: http://www.nltk.org/book/\n",
    "#To download ready-to-use nltk datasets run in your shell: python -m nltk.downloader popular\n",
    "#You need the nltk.corpus.stopwords.words('english') for this code to run\n",
    "import nltk\n",
    "\n",
    "#matplotlib is for plotting and nice visualisations\n",
    "import matplotlib\n",
    "%matplotlib inline\n",
    "\n",
    "import pandas as pd\n",
    "pd.set_option('display.max_columns', 10)  # or None\n",
    "pd.set_option('display.max_rows', 100)  # or 1000\n",
    "#pd.set_option('display.max_colwidth', None)  # or 199\n",
    "\n",
    "#Package re is for regular expressions\n",
    "import re \n",
    "%config IPCompleter.greedy=True\n",
    "\n",
    "import os\n",
    "#pip install newspaper3k\n",
    "from newspaper import Article"
   ]
  },
  {
   "cell_type": "code",
   "execution_count": 2,
   "metadata": {},
   "outputs": [
    {
     "name": "stdout",
     "output_type": "stream",
     "text": [
      "﻿The Project Gutenberg eBook of Alice’s Adventures in Wonderland, by Lewis Carroll\n",
      "\n",
      "This eBook is for the use of anyone anywhere in the United States and\n",
      "most other parts of the world at no cost and with almost no restrictions\n",
      "whatsoever. You may copy it, give it away or re-use it under the terms\n",
      "of the Project Gutenberg License included with this eBook or online at\n",
      "www.gutenberg.org. If you are not located in the United States, you\n",
      "will have to check the laws of the country where you are located before\n",
      "using this eBook.\n",
      "\n",
      "Title: Alice’s Adventures in Wonderland\n",
      "\n",
      "Author: Lewis Carroll\n",
      "\n",
      "Release Date: January, 1991 [eBook #11]\n",
      "[Most recently updated: October 12, 2020]\n",
      "\n",
      "Language: English\n",
      "\n",
      "\n",
      "Produced by: Arthur DiBianca and David Widger\n",
      "\n",
      "*** START OF THE PROJECT GUTENBERG EBOOK ALICE’S ADVENTURES IN WONDERLAND ***\n",
      "\n",
      "[Illustration]\n",
      "\n",
      "\n",
      "\n",
      "\n",
      "Alice’s Adventures in Wonderland\n",
      "\n",
      "by Lewis Carroll\n",
      "\n",
      "THE MILLENNIUM FULCRUM EDITION 3.0\n",
      "\n",
      "Contents\n",
      "\n",
      " CHAPTER I.     Down the Rabbit-Hole\n",
      " CHAPTER II.    The Pool of Tears\n",
      " CHAPTER III.   A Caucus-Race and a Long Tale\n",
      " CHAPTER IV.    The Rabbit Sends in a Little Bill\n",
      " CHAPTER V.     Advice from a Caterpillar\n",
      " CHAPTER VI.    Pig and Pepper\n",
      " CHAPTER VII.   A Mad Tea-Party\n",
      " CHAPTER VIII.  The Queen’s Croquet-Ground\n",
      " CHAPTER IX.    The Mock Turtle’s Story\n",
      " CHAPTER X.     The Lobster Quadrille\n",
      " CHAPTER XI.    Who Stole the Tarts?\n",
      " CHAPTER XII.   Alice’s Evidence\n",
      "\n",
      "\n",
      "\n",
      "\n",
      "CHAPTER I.\n",
      "Down the Rabbit-Hole\n",
      "\n",
      "\n",
      "Alice was beginning to get very tired of sitting by her sister on the\n",
      "bank, and of having nothing to do: once or twice she had peeped into\n",
      "the book her sister was reading, but it had no pictures or\n",
      "conversations in it, “and what is the use of a book,” thought Alice\n",
      "“without pictures or conversations?”\n",
      "\n",
      "So she was considering in her own mind (as well as she could, for the\n",
      "hot day made her feel very sleepy and stupid), whether the pleasure of\n",
      "making a daisy-chain would be worth the trouble of getting up and\n",
      "picking the daisies, when suddenly a White Rabbit with pink eyes ran\n",
      "close by her.\n",
      "\n",
      "There was nothing so _very_ remarkable in that; nor did Alice think it\n",
      "so _very_ much out of the way to hear the Rabbit say to itself, “Oh\n",
      "dear! Oh dear! I shall be late!” (when she thought it over afterwards,\n",
      "it occurred to her that she ought to have wondered at this, but at the\n",
      "time it all seemed quite natural); but when the Rabbit actually _took a\n",
      "watch out of its waistcoat-pocket_, and looked at it, and then hurried\n",
      "on, Alice started to her feet, for it flashed across her mind that she\n",
      "had never before seen a rabbit with either a waistcoat-pocket, or a\n",
      "watch to take out of it, and burning with curiosity, she ran across the\n",
      "field after it, and fortunately was just in time to see it pop down a\n",
      "large rabbit-hole under the hedge.\n",
      "\n",
      "In another moment down went Alice after it, never once considering how\n",
      "in the world she was to get out again.\n",
      "\n",
      "The rabbit-hole went straight on like a tunnel for some way, and then\n",
      "dipped suddenly down, so suddenly that Alice had not a moment to think\n",
      "about stopping herself before she found herself falling down a very\n",
      "deep well.\n",
      "\n",
      "Either the well was very deep, or she fell very slowly, for she had\n",
      "plenty of time as she went down to look about her and to wonder what\n",
      "was going to happen next. First, she tried to look down and make out\n",
      "what she was coming to, but it was too dark to see anything; then she\n",
      "looked at the sides of the well, and noticed that they were filled with\n",
      "cupboards and book-shelves; here and there she saw maps and pictures\n",
      "hung upon pegs. She took down a jar from one of the shelves as she\n",
      "passed; it was labelled “ORANGE MARMALADE”, but to her great\n",
      "disappointment it was empty: she did not like to drop the jar for fear\n",
      "of killing somebody underneath, so managed to put it into one of the\n",
      "cupboards as she fell past it.\n",
      "\n",
      "“Well!” thought Alice to herself, “after such a fall as this, I shall\n",
      "think nothing of tumbling down stairs! How brave they’ll all think me\n",
      "at home! Why, I wouldn’t say anything about it, even if I fell off the\n",
      "top of the house!” (Which was very likely true.)\n",
      "\n",
      "Down, down, down. Would the fall _never_ come to an end? “I wonder how\n",
      "many miles I’ve fallen by this time?” she said aloud. “I must be\n",
      "getting somewhere near the centre of the earth. Let me see: that would\n",
      "be four thousand miles down, I think—” (for, you see, Alice had learnt\n",
      "several things of this sort in her lessons in the schoolroom, and\n",
      "though this was not a _very_ good opportunity for showing off her\n",
      "knowledge, as there was no one to listen to her, still it was good\n",
      "practice to say it over) “—yes, that’s about the right distance—but\n",
      "then I wonder what Latitude or Longitude I’ve got to?” (Alice had no\n",
      "idea what Latitude was, or Longitude either, but thought they were nice\n",
      "grand words to say.)\n",
      "\n",
      "Presently she began again. “I wonder if I shall fall right _through_\n",
      "the earth! How funn\n"
     ]
    }
   ],
   "source": [
    "#Get a text file.\n",
    "#Get book \"Alice's Adventures in Wonderland\" from Project Gutenberg, in text format\n",
    "#Store text content to a file named alice.txt\n",
    "\n",
    "url='http://www.gutenberg.org/cache/epub/11/pg11.txt'\n",
    "text_page = requests.get(url).text\n",
    "with codecs.open(\"alice.txt\", \"w\", \"utf8\") as file:\n",
    "    file.write(text_page)\n",
    "#Look at the text_page object\n",
    "#?text_page\n",
    "\n",
    "#Look at the first 5000 characters of the book\n",
    "print(text_page[:5000])"
   ]
  },
  {
   "cell_type": "markdown",
   "metadata": {},
   "source": [
    "# Example of Descriptive Analysis"
   ]
  },
  {
   "cell_type": "code",
   "execution_count": 3,
   "metadata": {},
   "outputs": [
    {
     "name": "stdout",
     "output_type": "stream",
     "text": [
      "Number of chapters:  24\n",
      "Chapter lengths:  [30, 27, 39, 43, 35, 24, 25, 36, 33, 31, 30, 29, 11549, 10951, 9259, 13882, 12009, 13842, 12702, 13668, 12629, 11409, 10385, 30242]\n",
      "Min chapter length:  24\n",
      "Max chapter length:  30242\n",
      "Avg chapter length:  6787.875\n",
      "Numpy Avg chapter length:  6787.875\n",
      "Deviation from avg chapter length:  7697.4161644914975\n",
      "\n",
      "data frame for book\n",
      "data frame rows and columns: (1, 5) \n",
      "\n"
     ]
    },
    {
     "data": {
      "text/html": [
       "<div>\n",
       "<style scoped>\n",
       "    .dataframe tbody tr th:only-of-type {\n",
       "        vertical-align: middle;\n",
       "    }\n",
       "\n",
       "    .dataframe tbody tr th {\n",
       "        vertical-align: top;\n",
       "    }\n",
       "\n",
       "    .dataframe thead th {\n",
       "        text-align: right;\n",
       "    }\n",
       "</style>\n",
       "<table border=\"1\" class=\"dataframe\">\n",
       "  <thead>\n",
       "    <tr style=\"text-align: right;\">\n",
       "      <th></th>\n",
       "      <th>number_chapters</th>\n",
       "      <th>min_chapter_length</th>\n",
       "      <th>max_chapter_length</th>\n",
       "      <th>avg_chapter_length</th>\n",
       "      <th>stdev_chapter_length</th>\n",
       "    </tr>\n",
       "  </thead>\n",
       "  <tbody>\n",
       "    <tr>\n",
       "      <th>0</th>\n",
       "      <td>24</td>\n",
       "      <td>24</td>\n",
       "      <td>30242</td>\n",
       "      <td>6787.875</td>\n",
       "      <td>7697.416164</td>\n",
       "    </tr>\n",
       "  </tbody>\n",
       "</table>\n",
       "</div>"
      ],
      "text/plain": [
       "   number_chapters  min_chapter_length  max_chapter_length  \\\n",
       "0               24                  24               30242   \n",
       "\n",
       "   avg_chapter_length  stdev_chapter_length  \n",
       "0            6787.875           7697.416164  "
      ]
     },
     "execution_count": 3,
     "metadata": {},
     "output_type": "execute_result"
    }
   ],
   "source": [
    "#Open the file where we stored the book \"Alice's Adventures in Wonderland\"\n",
    "#Load data into object text\n",
    "with open('alice.txt', 'r') as file:\n",
    "    text = file.read()\n",
    "\n",
    "#Example of Descriptive Analysis\n",
    "#How many chapters does the book have?\n",
    "#Ignore the first element at index 0 which is the pre-face, \n",
    "#not a chapter. See book structure.\n",
    "chapters = text.split(\"CHAPTER\")[1:]\n",
    "chapter_lengths = [len(ch) for ch in chapters]\n",
    "\n",
    "min_chapter_length = len(min(chapters, key=len))\n",
    "max_chapter_length = len(max(chapters, key=len))\n",
    "\n",
    "avg_chapter_length = sum(chapter_lengths)/len(chapters)\n",
    "#Can use numpy for numeric computations such as mean, standard deviation\n",
    "numpy_avg_chapter_length = np.mean(chapter_lengths)\n",
    "stdev_chapter_length = np.std(chapter_lengths)\n",
    "\n",
    "#?nchapters\n",
    "print(\"Number of chapters: \", len(chapters))\n",
    "print(\"Chapter lengths: \", chapter_lengths)\n",
    "print(\"Min chapter length: \", min_chapter_length)\n",
    "print(\"Max chapter length: \", max_chapter_length)\n",
    "print(\"Avg chapter length: \", avg_chapter_length)\n",
    "print(\"Numpy Avg chapter length: \", numpy_avg_chapter_length)\n",
    "print(\"Deviation from avg chapter length: \", stdev_chapter_length)\n",
    "\n",
    "\n",
    "data = []\n",
    "data.append([len(chapters), min_chapter_length, max_chapter_length, avg_chapter_length, stdev_chapter_length])\n",
    "\n",
    "#create a new data frame which collects features about this book\n",
    "df_book_features = pd.DataFrame(data, columns=['number_chapters', 'min_chapter_length', 'max_chapter_length', 'avg_chapter_length', 'stdev_chapter_length'])\n",
    "\n",
    "print(\"\\ndata frame for book\")\n",
    "print(\"data frame rows and columns:\", df_book_features.shape, \"\\n\")\n",
    "\n",
    "df_book_features.to_csv(\"project_gutenberg_books.csv\")\n",
    "df_book_features"
   ]
  },
  {
   "cell_type": "markdown",
   "metadata": {},
   "source": [
    "# Example of Exploratory Analysis"
   ]
  },
  {
   "cell_type": "code",
   "execution_count": 4,
   "metadata": {},
   "outputs": [
    {
     "name": "stdout",
     "output_type": "stream",
     "text": [
      "Number of sentences:  1102\n",
      "Number of words:  38085\n"
     ]
    },
    {
     "data": {
      "image/png": "[encoded data removed]",
      "text/plain": [
       "<Figure size 640x480 with 1 Axes>"
      ]
     },
     "metadata": {},
     "output_type": "display_data"
    },
    {
     "name": "stdout",
     "output_type": "stream",
     "text": [
      "\n",
      "Most frequent top-10 words:  [('said', 457), ('alice', 402), ('little', 127), ('one', 101), ('project', 88), ('like', 84), ('went', 83), ('would', 78), ('queen', 76), ('could', 75)]\n"
     ]
    },
    {
     "data": {
      "image/png": "[encoded data removed]",
      "text/plain": [
       "<Figure size 640x480 with 1 Axes>"
      ]
     },
     "metadata": {},
     "output_type": "display_data"
    },
    {
     "data": {
      "text/plain": [
       "<AxesSubplot: xlabel='Samples', ylabel='Counts'>"
      ]
     },
     "execution_count": 4,
     "metadata": {},
     "output_type": "execute_result"
    }
   ],
   "source": [
    "#Open the file where we stored the book \"Alice's Adventures in Wonderland\"\n",
    "#Load data into object text\n",
    "with open('alice.txt', 'r') as file:\n",
    "    text = file.read()\n",
    "\n",
    "#Example of Exploratory Analysis\n",
    "#Where in the text do given words occur? (visualisation)\n",
    "#What are the top-20 most frequent words in this book? (summarization)\n",
    "sentences = nltk.sent_tokenize(text)\n",
    "words = nltk.word_tokenize(text)\n",
    "#print(words[:10])\n",
    "print(\"Number of sentences: \", len(sentences))\n",
    "print(\"Number of words: \", len(words))\n",
    "\n",
    "#Turn the text into an nltk object Text\n",
    "alice = nltk.Text(words)\n",
    "#?alice\n",
    "#Where in the text do given words occur? (visualisation)\n",
    "alice.dispersion_plot([\"Alice\", \"Rabbit\", \"Duchess\"])\n",
    "\n",
    "# Remove all punctuation from word lists - note the use of regular expressions!\n",
    "#\\W Matches any non-alphanumeric character; this is equivalent to the class [^a-zA-Z0-9_].\n",
    "#For more details: https://docs.python.org/3/howto/regex.html\n",
    "alice = [w for w in alice if not (re.match(r'^\\W+$', w) != None)]\n",
    "\n",
    "# Convert all words to lower case\n",
    "alice = [w.lower() for w in alice]\n",
    "\n",
    "# Remove all stop words from word lists\n",
    "alice = [w for w in alice if not w in nltk.corpus.stopwords.words('english')]\n",
    "#print(alice[:10])\n",
    "\n",
    "word_frequency = nltk.FreqDist(alice)\n",
    "# #?word_frequency\n",
    "#What are the top-10 most frequent words in this book?\n",
    "print(\"\\nMost frequent top-10 words: \", word_frequency.most_common(10))\n",
    "word_frequency.plot(10)\n"
   ]
  },
  {
   "cell_type": "code",
   "execution_count": 5,
   "metadata": {},
   "outputs": [
    {
     "name": "stdout",
     "output_type": "stream",
     "text": [
      "zsh:1: command not found: wget\n"
     ]
    }
   ],
   "source": [
    "# Crawl the website to depth 3 to download more ebooks from Project Gutenberg. \n",
    "# To stop downloading interrupt the kernel from the menu above.\n",
    "!wget https://www.gutenberg.org/ebooks/ -r -l 3 --no-parent"
   ]
  },
  {
   "cell_type": "code",
   "execution_count": 6,
   "metadata": {},
   "outputs": [],
   "source": [
    "# This code iterates through a folder on the local computer, reads each html file and parses it\n",
    "# each html file here only contains the title of the ebook and urls for different formats\n",
    "\n",
    "rootdir = \"www.gutenberg.org/ebooks\"\n",
    "\n",
    "#index = 0\n",
    "for subdir, dirs, files in os.walk(rootdir):\n",
    "    for file in files:\n",
    "        #print os.path.join(subdir, file)\n",
    "        filepath = subdir + os.sep + file\n",
    "        print (\"\\nPath:\", filepath)\n",
    "        \n",
    "        filename = filepath.split(\"/\")[-1]\n",
    "        print(\"Filename:\", filename)\n",
    "        \n",
    "        with open(filepath, 'r') as fp:\n",
    "            # using the newspaper library to read each html ebook file stored on this computer\n",
    "            article = Article('', language='en')\n",
    "            try:\n",
    "                article.download(input_html=fp.read())\n",
    "                article.parse()\n",
    "    \n",
    "                print(\"Title:\", article.title)\n",
    "                #print(\"Text:\",article.text)\n",
    "                #print(\"HTML:\", article.html)\n",
    "            except: print(\"ERROR: not an html file!\")\n",
    "        "
   ]
  },
  {
   "cell_type": "code",
   "execution_count": null,
   "metadata": {},
   "outputs": [],
   "source": []
  }
 ],
 "metadata": {
  "kernelspec": {
   "display_name": "Python 3 (ipykernel)",
   "language": "python",
   "name": "python3"
  },
  "language_info": {
   "codemirror_mode": {
    "name": "ipython",
    "version": 3
   },
   "file_extension": ".py",
   "mimetype": "text/x-python",
   "name": "python",
   "nbconvert_exporter": "python",
   "pygments_lexer": "ipython3",
   "version": "3.8.16"
  }
 },
 "nbformat": 4,
 "nbformat_minor": 4
}
