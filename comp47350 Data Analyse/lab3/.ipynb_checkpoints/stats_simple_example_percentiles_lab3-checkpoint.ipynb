{
 "cells": [
  {
   "cell_type": "code",
   "execution_count": 1,
   "metadata": {},
   "outputs": [],
   "source": [
    "# Import package numpy for numeric computing\n",
    "import numpy as np\n",
    "\n",
    "# Import package matplotlib for visualisation/plotting\n",
    "import matplotlib.pyplot as plt\n",
    "\n",
    "#For showing plots directly in the notebook run the command below\n",
    "%matplotlib inline"
   ]
  },
  {
   "cell_type": "code",
   "execution_count": 2,
   "metadata": {},
   "outputs": [
    {
     "name": "stdout",
     "output_type": "stream",
     "text": [
      "a: [ 30000  30000  30000  30000  30000  30000  30000 430000]\n",
      "min: 30000\n",
      "1st q:30000.0\n",
      "median: 30000.0\n",
      "2nd q:30000.0\n",
      "3rd q:30000.0\n",
      "max: 430000\n",
      "\n",
      "mean: 80000.0\n"
     ]
    }
   ],
   "source": [
    "\n",
    "a = np.array([30000, 30000, 30000, 30000, 30000, 30000, 30000, 430000])\n",
    "print(\"a: \" + str(a))\n",
    "\n",
    "min_a = np.min(a)\n",
    "print(\"min: \" + str(min_a))\n",
    "\n",
    "p_25 = np.percentile(a, 25)\n",
    "print(\"1st q:\" + str(p_25))\n",
    "\n",
    "median_a = np.median(a)\n",
    "print(\"median: \" + str(median_a))\n",
    "\n",
    "p_50 = np.percentile(a, 50)\n",
    "print(\"2nd q:\" + str(p_50))\n",
    "\n",
    "p_75 = np.percentile(a, 75)\n",
    "print(\"3rd q:\" + str(p_75))\n",
    "\n",
    "max_a = np.max(a)\n",
    "print(\"max: \" + str(max_a))\n",
    "\n",
    "mean_a = np.mean(a)\n",
    "print(\"\\nmean: \" + str(mean_a))\n"
   ]
  },
  {
   "cell_type": "code",
   "execution_count": 3,
   "metadata": {},
   "outputs": [
    {
     "name": "stdout",
     "output_type": "stream",
     "text": [
      "a: [140 140 145 149 150 151 157 163 229]\n",
      "min: 140\n",
      "1st q:145.0\n",
      "median: 150.0\n",
      "2nd q:150.0\n",
      "3rd q:157.0\n",
      "max: 229\n",
      "\n",
      "mean: 158.22222222222223\n"
     ]
    }
   ],
   "source": [
    "a = np.array([140, 140, 145, 149, 150, 151, 157, 163, 229])\n",
    "print(\"a: \" + str(a))\n",
    "\n",
    "min_a = np.min(a)\n",
    "print(\"min: \" + str(min_a))\n",
    "\n",
    "p_25 = np.percentile(a, 25)\n",
    "print(\"1st q:\" + str(p_25))\n",
    "\n",
    "median_a = np.median(a)\n",
    "print(\"median: \" + str(median_a))\n",
    "\n",
    "p_50 = np.percentile(a, 50)\n",
    "print(\"2nd q:\" + str(p_50))\n",
    "\n",
    "p_75 = np.percentile(a, 75)\n",
    "print(\"3rd q:\" + str(p_75))\n",
    "\n",
    "max_a = np.max(a)\n",
    "print(\"max: \" + str(max_a))\n",
    "\n",
    "mean_a = np.mean(a)\n",
    "print(\"\\nmean: \" + str(mean_a))"
   ]
  },
  {
   "cell_type": "code",
   "execution_count": 11,
   "metadata": {},
   "outputs": [
    {
     "name": "stdout",
     "output_type": "stream",
     "text": [
      "25perc linear:145.0\n",
      "25perc lower:145\n",
      "25perc higher:145\n",
      "25perc nearest:145\n",
      "25perc midpoint:145.0\n"
     ]
    }
   ],
   "source": [
    "p_25 = np.percentile(a, 25, method='linear')\n",
    "print(\"25perc linear:\" + str(p_25))\n",
    "\n",
    "p_25 = np.percentile(a, 25, method='lower')\n",
    "print(\"25perc lower:\" + str(p_25))\n",
    "\n",
    "p_25 = np.percentile(a, 25, method='higher')\n",
    "print(\"25perc higher:\" + str(p_25))\n",
    "\n",
    "p_25 = np.percentile(a, 25, method='nearest')\n",
    "print(\"25perc nearest:\" + str(p_25))\n",
    "\n",
    "p_25 = np.percentile(a, 25, method='midpoint')\n",
    "print(\"25perc midpoint:\" + str(p_25))\n",
    "\n"
   ]
  },
  {
   "cell_type": "code",
   "execution_count": 5,
   "metadata": {},
   "outputs": [
    {
     "data": {
      "text/plain": [
       "2.25"
      ]
     },
     "execution_count": 5,
     "metadata": {},
     "output_type": "execute_result"
    }
   ],
   "source": [
    "(25/100) * 9"
   ]
  },
  {
   "cell_type": "code",
   "execution_count": 6,
   "metadata": {},
   "outputs": [
    {
     "data": {
      "text/plain": [
       "141.25"
      ]
     },
     "execution_count": 6,
     "metadata": {},
     "output_type": "execute_result"
    }
   ],
   "source": [
    "0.75 * 140 + 0.25 * 145"
   ]
  },
  {
   "cell_type": "code",
   "execution_count": 7,
   "metadata": {},
   "outputs": [
    {
     "data": {
      "text/plain": [
       "141.25"
      ]
     },
     "execution_count": 7,
     "metadata": {},
     "output_type": "execute_result"
    }
   ],
   "source": [
    "#‘linear’: i + (j - i) * fraction, where fraction is the fractional part of the index surrounded by i and j.\n",
    "140 + 0.25 * (145 - 140)"
   ]
  },
  {
   "cell_type": "code",
   "execution_count": 8,
   "metadata": {},
   "outputs": [
    {
     "data": {
      "text/plain": [
       "2.0"
      ]
     },
     "execution_count": 8,
     "metadata": {},
     "output_type": "execute_result"
    }
   ],
   "source": [
    "#numpy does not do i/100 * num_values, it does i/100 * (num_values - 1)\n",
    "(25/100) * 8"
   ]
  },
  {
   "cell_type": "code",
   "execution_count": 9,
   "metadata": {},
   "outputs": [
    {
     "name": "stdout",
     "output_type": "stream",
     "text": [
      "75perc linear:157.0\n",
      "75perc lower:157\n",
      "75perc higher:157\n",
      "75perc nearest:157\n",
      "75perc midpoint:157.0\n"
     ]
    },
    {
     "name": "stderr",
     "output_type": "stream",
     "text": [
      "/var/folders/6s/ws6d33k92fx3xljr0ykz6_lc0000gn/T/ipykernel_8312/3440159973.py:1: DeprecationWarning: the `interpolation=` argument to percentile was renamed to `method=`, which has additional options.\n",
      "Users of the modes 'nearest', 'lower', 'higher', or 'midpoint' are encouraged to review the method they used. (Deprecated NumPy 1.22)\n",
      "  p_75 = np.percentile(a, 75, interpolation='linear')\n",
      "/var/folders/6s/ws6d33k92fx3xljr0ykz6_lc0000gn/T/ipykernel_8312/3440159973.py:4: DeprecationWarning: the `interpolation=` argument to percentile was renamed to `method=`, which has additional options.\n",
      "Users of the modes 'nearest', 'lower', 'higher', or 'midpoint' are encouraged to review the method they used. (Deprecated NumPy 1.22)\n",
      "  p_75 = np.percentile(a, 75, interpolation='lower')\n",
      "/var/folders/6s/ws6d33k92fx3xljr0ykz6_lc0000gn/T/ipykernel_8312/3440159973.py:7: DeprecationWarning: the `interpolation=` argument to percentile was renamed to `method=`, which has additional options.\n",
      "Users of the modes 'nearest', 'lower', 'higher', or 'midpoint' are encouraged to review the method they used. (Deprecated NumPy 1.22)\n",
      "  p_75 = np.percentile(a, 75, interpolation='higher')\n",
      "/var/folders/6s/ws6d33k92fx3xljr0ykz6_lc0000gn/T/ipykernel_8312/3440159973.py:10: DeprecationWarning: the `interpolation=` argument to percentile was renamed to `method=`, which has additional options.\n",
      "Users of the modes 'nearest', 'lower', 'higher', or 'midpoint' are encouraged to review the method they used. (Deprecated NumPy 1.22)\n",
      "  p_75 = np.percentile(a, 75, interpolation='nearest')\n",
      "/var/folders/6s/ws6d33k92fx3xljr0ykz6_lc0000gn/T/ipykernel_8312/3440159973.py:13: DeprecationWarning: the `interpolation=` argument to percentile was renamed to `method=`, which has additional options.\n",
      "Users of the modes 'nearest', 'lower', 'higher', or 'midpoint' are encouraged to review the method they used. (Deprecated NumPy 1.22)\n",
      "  p_75 = np.percentile(a, 75, interpolation='midpoint')\n"
     ]
    }
   ],
   "source": [
    "p_75 = np.percentile(a, 75, method='linear')\n",
    "print(\"75perc linear:\" + str(p_75))\n",
    "\n",
    "p_75 = np.percentile(a, 75, method='lower')\n",
    "print(\"75perc lower:\" + str(p_75))\n",
    "\n",
    "p_75 = np.percentile(a, 75, method='higher')\n",
    "print(\"75perc higher:\" + str(p_75))\n",
    "\n",
    "p_75 = np.percentile(a, 75, method='nearest')\n",
    "print(\"75perc nearest:\" + str(p_75))\n",
    "\n",
    "p_75 = np.percentile(a, 75, method='midpoint')\n",
    "print(\"75perc midpoint:\" + str(p_75))"
   ]
  },
  {
   "cell_type": "code",
   "execution_count": null,
   "metadata": {},
   "outputs": [],
   "source": []
  }
 ],
 "metadata": {
  "kernelspec": {
   "display_name": "Python 3 (ipykernel)",
   "language": "python",
   "name": "python3"
  },
  "language_info": {
   "codemirror_mode": {
    "name": "ipython",
    "version": 3
   },
   "file_extension": ".py",
   "mimetype": "text/x-python",
   "name": "python",
   "nbconvert_exporter": "python",
   "pygments_lexer": "ipython3",
   "version": "3.8.16"
  }
 },
 "nbformat": 4,
 "nbformat_minor": 4
}
